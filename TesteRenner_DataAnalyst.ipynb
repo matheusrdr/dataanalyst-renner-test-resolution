{
  "nbformat": 4,
  "nbformat_minor": 0,
  "metadata": {
    "colab": {
      "name": "TesteRenner_DataAnalyst.ipynb",
      "provenance": [],
      "collapsed_sections": [],
      "mount_file_id": "1jQ4b7CBc0GBWpwPYpaKvgG65GpbsFgle",
      "authorship_tag": "ABX9TyMYgDxe/2FowjU9ApitGP1H",
      "include_colab_link": true
    },
    "kernelspec": {
      "name": "python3",
      "display_name": "Python 3"
    },
    "language_info": {
      "name": "python"
    }
  },
  "cells": [
    {
      "cell_type": "markdown",
      "metadata": {
        "id": "view-in-github",
        "colab_type": "text"
      },
      "source": [
        "<a href=\"https://colab.research.google.com/github/matheusrdr/dataanalyst-renner-test-resolution/blob/main/TesteRenner_DataAnalyst.ipynb\" target=\"_parent\"><img src=\"https://colab.research.google.com/assets/colab-badge.svg\" alt=\"Open In Colab\"/></a>"
      ]
    },
    {
      "cell_type": "code",
      "metadata": {
        "id": "tdumbWsHLTZv"
      },
      "source": [
        "# importando bibliotecas:\n",
        "import pandas as pd\n",
        "import matplotlib.pyplot as plt\n",
        "import seaborn as sns\n",
        "from google.colab import files"
      ],
      "execution_count": 1,
      "outputs": []
    },
    {
      "cell_type": "code",
      "metadata": {
        "id": "WJrnr78bLk2T"
      },
      "source": [
        "# importando datasets:\n",
        "df_raw = pd.read_excel('/content/drive/MyDrive/Colab Notebooks/upload/Exercicio_Python_Merge_Summarizado.xlsx', sheet_name=\"Raw\")\n",
        "df_produto = pd.read_excel('/content/drive/MyDrive/Colab Notebooks/upload/Exercicio_Python_Merge_Summarizado.xlsx', sheet_name=\"Master Produto\")\n",
        "df_lojas = pd.read_excel('/content/drive/MyDrive/Colab Notebooks/upload/Exercicio_Python_Merge_Summarizado.xlsx', sheet_name=\"Master Lojas\")\n",
        "df_clientes = pd.read_excel('/content/drive/MyDrive/Colab Notebooks/upload/Exercicio_Python_Merge_Summarizado.xlsx', sheet_name=\"Master clientes\")"
      ],
      "execution_count": 2,
      "outputs": []
    },
    {
      "cell_type": "code",
      "metadata": {
        "id": "kLXnrEW7SW36"
      },
      "source": [
        "# Renomeando as colunas dos dataframes:\n",
        "df_raw.columns = ['CodigoTransacao', 'Data', 'LojaID', 'ProdID', 'ClienteID', 'UnidadesVendidas', 'Faturamento', 'Promocao']\n",
        "df_produto.columns = ['ProdID', 'Descricao', 'Categoria', 'Tamanho', 'Cor']\n",
        "df_lojas.columns = ['LojaID', 'CodigoCidade', 'UF', 'Regiao']\n",
        "df_clientes.columns = ['ClienteID', 'Genero', 'FaixadeIdade', 'ClasseSocial']"
      ],
      "execution_count": 3,
      "outputs": []
    },
    {
      "cell_type": "code",
      "metadata": {
        "id": "ecuBgxQEMwOi"
      },
      "source": [
        "# Eliminando espacos em branco:\n",
        "df_produto['Categoria'] = df_produto['Categoria'].str.strip()\n",
        "df_produto['Tamanho'] = df_produto['Tamanho'].str.strip()\n",
        "df_produto['Cor'] = df_produto['Cor'].str.strip()"
      ],
      "execution_count": 4,
      "outputs": []
    },
    {
      "cell_type": "code",
      "metadata": {
        "id": "xjjspu9ogThI"
      },
      "source": [
        "# Criando a descrição do produto como a concatenação da categoria_Cor_Tamanho:\n",
        "df_produto['Descricao'] = df_produto['Categoria'] + df_produto['Cor'] + df_produto['Tamanho'] "
      ],
      "execution_count": 5,
      "outputs": []
    },
    {
      "cell_type": "code",
      "metadata": {
        "id": "iZ0rSThwhhs7"
      },
      "source": [
        "# Criando df_cidades para alimentar demais datasets:\n",
        "df_cidades = pd.DataFrame({'CodigoCidade' : df_lojas['CodigoCidade'], 'UF' : df_lojas['UF'], 'Regiao' : df_lojas['Regiao'] }).drop_duplicates().dropna().reset_index(drop = True)"
      ],
      "execution_count": 6,
      "outputs": []
    },
    {
      "cell_type": "code",
      "metadata": {
        "id": "LIGy80-ToonZ"
      },
      "source": [
        "# Completando informações do df_lojas:\n",
        "\n",
        "# Função para excluir colunas pós merge (terminadas com '_x'):\n",
        "def drop_x(df):\n",
        "    to_drop = [x for x in df_lojas if x.endswith('_x')]\n",
        "    df_lojas.drop(to_drop, axis=1, inplace = True)\n",
        "\n",
        "# Completando informações e deixando somente as colunas com registros mergeados:\n",
        "df_lojas = pd.merge(df_lojas, df_cidades, on = ['CodigoCidade'], how = 'left', suffixes=('_x', ''))\n",
        "drop_x(df_lojas)\n"
      ],
      "execution_count": 7,
      "outputs": []
    },
    {
      "cell_type": "code",
      "metadata": {
        "id": "lOz_TetIuk3r"
      },
      "source": [
        "# Trazendo informações dos dataframes para o df_raw:\n",
        "\n",
        "df_raw = pd.merge(df_raw, df_produto, on='ProdID', how='left')\n",
        "df_raw = pd.merge(df_raw, df_lojas, on='LojaID', how='left')\n",
        "df_raw = pd.merge(df_raw, df_clientes, on='ClienteID', how='left')\n",
        "#df_raw.head(10)"
      ],
      "execution_count": 8,
      "outputs": []
    },
    {
      "cell_type": "code",
      "metadata": {
        "id": "dqAm7MMVzsAQ"
      },
      "source": [
        "# Adicionando a informação de Ano no df_raw:\n",
        "\n",
        "df_raw['Ano'] = df_raw['Data'].dt.year\n",
        "#df_raw.head(5)"
      ],
      "execution_count": 9,
      "outputs": []
    },
    {
      "cell_type": "code",
      "metadata": {
        "id": "HiVlSo1PC6ao"
      },
      "source": [
        "# Separando o df_raw em 2 df, por ano:\n",
        "\n",
        "df_raw_2022 = df_raw.loc[df_raw['Ano'] == 2022]\n",
        "df_raw_2023 = df_raw.loc[df_raw['Ano'] == 2023]"
      ],
      "execution_count": 10,
      "outputs": []
    },
    {
      "cell_type": "code",
      "metadata": {
        "id": "NMI8XDylEWGB"
      },
      "source": [
        "# Agrupando os df_raw criados:\n",
        "\n",
        "df_raw_2022 = df_raw_2022.groupby(['ProdID', 'Descricao']).agg({'CodigoTransacao': 'count', 'ClienteID': 'nunique', 'Faturamento': 'sum', 'UnidadesVendidas': 'sum'})\n",
        "df_raw_2023 = df_raw_2023.groupby(['ProdID', 'Descricao']).agg({'CodigoTransacao': 'count', 'ClienteID': 'nunique', 'Faturamento': 'sum', 'UnidadesVendidas': 'sum'})"
      ],
      "execution_count": 11,
      "outputs": []
    },
    {
      "cell_type": "code",
      "metadata": {
        "id": "niBneXBwHHoy"
      },
      "source": [
        "# Criando a tabela base para cálculo dos KPI's, unindo os dois agrupamentos por ano criados, renomeando as colunas para facilitar a identificação:\n",
        "\n",
        "df_resumo_1 = pd.concat([df_raw_2022, df_raw_2023], axis=1)\n",
        "df_resumo_1.columns = ['CodigoTransacao_2022', 'ClienteID_2022', 'Faturamento_2022', 'UnidadesVendidas_2022', 'CodigoTransacao_2023', 'ClienteID_2023', 'Faturamento_2023', 'UnidadesVendidas_2023']\n",
        "#df_resumo_1"
      ],
      "execution_count": 12,
      "outputs": []
    },
    {
      "cell_type": "code",
      "metadata": {
        "id": "vryJoZyWOaIU"
      },
      "source": [
        "# Criando colunas com indicadores:\n",
        "\n",
        "# Substituindo valores faltantes por 0:\n",
        "df_resumo_1.fillna(value=0, inplace=True)\n",
        "\n",
        "## dataframes auxiliares:\n",
        "df_clientes = df_raw.groupby(['ProdID', 'Descricao']).agg({'ClienteID': 'nunique'})\n",
        "df_frequencia = df_raw.groupby(['ProdID', 'Descricao']).agg({'CodigoTransacao': 'nunique'})\n",
        "df_transacao = df_raw.groupby(['ProdID', 'Descricao']).agg({'CodigoTransacao': 'nunique'})\n",
        "\n",
        "## KPIs:\n",
        "df_resumo_1['Vendas'] = df_resumo_1['CodigoTransacao_2022'] + df_resumo_1['CodigoTransacao_2023']\n",
        "df_resumo_1['VariacaoVendas'] = (((df_resumo_1['CodigoTransacao_2023'] - df_resumo_1['CodigoTransacao_2022']) / df_resumo_1['CodigoTransacao_2022']) * 100).round(2)\n",
        "df_resumo_1['VarClientes'] = (((df_resumo_1['ClienteID_2023'] - df_resumo_1['ClienteID_2022']) / df_resumo_1['ClienteID_2022']) * 100).round(2)\n",
        "df_resumo_1['GastoPorCliente'] = ((df_resumo_1['Faturamento_2023'] + df_resumo_1['Faturamento_2022']) / df_clientes['ClienteID']).round(2)\n",
        "df_resumo_1['VarGastoPorCliente'] = ((((df_resumo_1['Faturamento_2023'] / df_resumo_1['ClienteID_2023']) - (df_resumo_1['Faturamento_2022'] / df_resumo_1['ClienteID_2022'])) / (df_resumo_1['Faturamento_2022'] / df_resumo_1['ClienteID_2022'])) * 100).round(2)\n",
        "df_resumo_1['FrequenciaMedia'] = (df_frequencia['CodigoTransacao'] / df_clientes['ClienteID']).round(2)\n",
        "df_resumo_1['VarFrequenciaMedia'] = (((df_resumo_1['CodigoTransacao_2023'] / df_resumo_1['ClienteID_2023']) - (df_resumo_1['CodigoTransacao_2022'] / df_resumo_1['ClienteID_2022'])) / (df_resumo_1['CodigoTransacao_2022'] / df_resumo_1['ClienteID_2022'])).round(2) \n",
        "df_resumo_1['TicketMedio'] = ((df_resumo_1['Faturamento_2023'] + df_resumo_1['Faturamento_2022']) / df_transacao['CodigoTransacao']).round(2)\n",
        "df_resumo_1['VarTicketMedio'] = ((((df_resumo_1['Faturamento_2023'] / df_resumo_1['CodigoTransacao_2023']) - (df_resumo_1['Faturamento_2022'] / df_resumo_1['CodigoTransacao_2022']) ) / ((df_resumo_1['Faturamento_2022'] / df_resumo_1['CodigoTransacao_2022']))) * 100).round(2)\n",
        "df_resumo_1['PeçasPorCupom'] = ((df_resumo_1['UnidadesVendidas_2023'] + df_resumo_1['UnidadesVendidas_2022']) / df_transacao['CodigoTransacao']).round(2)\n",
        "df_resumo_1['VarPecasPorCupom'] = ((((df_resumo_1['UnidadesVendidas_2023'] / df_resumo_1['CodigoTransacao_2023']) - (df_resumo_1['UnidadesVendidas_2022'] / df_resumo_1['CodigoTransacao_2022'])) / (df_resumo_1['UnidadesVendidas_2022'] / df_resumo_1['CodigoTransacao_2022'])) * 100).round(2)\n",
        "df_resumo_1['PrecoMedio'] = ((df_resumo_1['Faturamento_2023'] + df_resumo_1['Faturamento_2022']) / (df_resumo_1['UnidadesVendidas_2023'] + df_resumo_1['UnidadesVendidas_2022'])).round(2)\n",
        "df_resumo_1['VarPrecoMedio'] = ((((df_resumo_1['Faturamento_2023'] / df_resumo_1['UnidadesVendidas_2023']) - (df_resumo_1['Faturamento_2022'] / df_resumo_1['UnidadesVendidas_2022'])) / (df_resumo_1['Faturamento_2022'] / df_resumo_1['UnidadesVendidas_2022'])) * 100).round(2)\n"
      ],
      "execution_count": 13,
      "outputs": []
    },
    {
      "cell_type": "code",
      "metadata": {
        "colab": {
          "base_uri": "https://localhost:8080/",
          "height": 17
        },
        "id": "wqu3747SbRad",
        "outputId": "fe928952-9664-4329-8916-f24e7e373e30"
      },
      "source": [
        "# Gerando tabela final:\n",
        "df_resumo_1_exportar = df_resumo_1.iloc[:,8:23]\n",
        "#df_resumo_1_exportar:\n",
        "df_resumo_1_exportar.to_excel('df_resumo_1.xlsx') \n",
        "files.download('df_resumo_1.xlsx')"
      ],
      "execution_count": 17,
      "outputs": [
        {
          "output_type": "display_data",
          "data": {
            "application/javascript": [
              "\n",
              "    async function download(id, filename, size) {\n",
              "      if (!google.colab.kernel.accessAllowed) {\n",
              "        return;\n",
              "      }\n",
              "      const div = document.createElement('div');\n",
              "      const label = document.createElement('label');\n",
              "      label.textContent = `Downloading \"${filename}\": `;\n",
              "      div.appendChild(label);\n",
              "      const progress = document.createElement('progress');\n",
              "      progress.max = size;\n",
              "      div.appendChild(progress);\n",
              "      document.body.appendChild(div);\n",
              "\n",
              "      const buffers = [];\n",
              "      let downloaded = 0;\n",
              "\n",
              "      const channel = await google.colab.kernel.comms.open(id);\n",
              "      // Send a message to notify the kernel that we're ready.\n",
              "      channel.send({})\n",
              "\n",
              "      for await (const message of channel.messages) {\n",
              "        // Send a message to notify the kernel that we're ready.\n",
              "        channel.send({})\n",
              "        if (message.buffers) {\n",
              "          for (const buffer of message.buffers) {\n",
              "            buffers.push(buffer);\n",
              "            downloaded += buffer.byteLength;\n",
              "            progress.value = downloaded;\n",
              "          }\n",
              "        }\n",
              "      }\n",
              "      const blob = new Blob(buffers, {type: 'application/binary'});\n",
              "      const a = document.createElement('a');\n",
              "      a.href = window.URL.createObjectURL(blob);\n",
              "      a.download = filename;\n",
              "      div.appendChild(a);\n",
              "      a.click();\n",
              "      div.remove();\n",
              "    }\n",
              "  "
            ],
            "text/plain": [
              "<IPython.core.display.Javascript object>"
            ]
          },
          "metadata": {}
        },
        {
          "output_type": "display_data",
          "data": {
            "application/javascript": [
              "download(\"download_c58705e0-cfeb-4220-a57f-54af6ee92b49\", \"df_resumo_1.xlsx\", 6963)"
            ],
            "text/plain": [
              "<IPython.core.display.Javascript object>"
            ]
          },
          "metadata": {}
        }
      ]
    }
  ]
}