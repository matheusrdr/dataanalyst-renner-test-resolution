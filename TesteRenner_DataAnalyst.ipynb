{
  "nbformat": 4,
  "nbformat_minor": 0,
  "metadata": {
    "colab": {
      "name": "TesteRenner_DataAnalyst.ipynb",
      "provenance": [],
      "collapsed_sections": [],
      "mount_file_id": "1jQ4b7CBc0GBWpwPYpaKvgG65GpbsFgle",
      "authorship_tag": "ABX9TyMdsyQeb5UdAApY3AUspBrQ",
      "include_colab_link": true
    },
    "kernelspec": {
      "name": "python3",
      "display_name": "Python 3"
    },
    "language_info": {
      "name": "python"
    }
  },
  "cells": [
    {
      "cell_type": "markdown",
      "metadata": {
        "id": "view-in-github",
        "colab_type": "text"
      },
      "source": [
        "<a href=\"https://colab.research.google.com/github/matheusrdr/dataanalyst-renner-test-resolution/blob/main/TesteRenner_DataAnalyst.ipynb\" target=\"_parent\"><img src=\"https://colab.research.google.com/assets/colab-badge.svg\" alt=\"Open In Colab\"/></a>"
      ]
    },
    {
      "cell_type": "code",
      "metadata": {
        "id": "tdumbWsHLTZv"
      },
      "source": [
        "# importando bibliotecas:\n",
        "import pandas as pd\n",
        "import matplotlib.pyplot as plt\n",
        "import seaborn as sns"
      ],
      "execution_count": 1,
      "outputs": []
    },
    {
      "cell_type": "code",
      "metadata": {
        "id": "WJrnr78bLk2T"
      },
      "source": [
        "# importando datasets:\n",
        "df_raw = pd.read_excel('/content/drive/MyDrive/Colab Notebooks/upload/Exercicio_Python_Merge_Summarizado.xlsx', sheet_name=\"Raw\")\n",
        "df_produto = pd.read_excel('/content/drive/MyDrive/Colab Notebooks/upload/Exercicio_Python_Merge_Summarizado.xlsx', sheet_name=\"Master Produto\")\n",
        "df_lojas = pd.read_excel('/content/drive/MyDrive/Colab Notebooks/upload/Exercicio_Python_Merge_Summarizado.xlsx', sheet_name=\"Master Lojas\")\n",
        "df_clientes = pd.read_excel('/content/drive/MyDrive/Colab Notebooks/upload/Exercicio_Python_Merge_Summarizado.xlsx', sheet_name=\"Master clientes\")"
      ],
      "execution_count": 2,
      "outputs": []
    },
    {
      "cell_type": "code",
      "metadata": {
        "id": "kLXnrEW7SW36"
      },
      "source": [
        "# Renomeando as colunas dos dataframes:\n",
        "df_raw.columns = ['CodigoTransacao', 'Data', 'LojaID', 'ProdID', 'ClienteID', 'UnidadesVendidas', 'Faturamento', 'Promocao']\n",
        "df_produto.columns = ['ProdID', 'Descricao', 'Categoria', 'Tamanho', 'Cor']\n",
        "df_lojas.columns = ['LojaID', 'CodigoCidade', 'UF', 'Regiao']\n",
        "df_clientes.columns = ['ClienteID', 'Genero', 'FaixadeIdade', 'ClasseSocial']"
      ],
      "execution_count": 3,
      "outputs": []
    },
    {
      "cell_type": "code",
      "metadata": {
        "id": "ecuBgxQEMwOi"
      },
      "source": [
        "# Eliminando espacos em branco:\n",
        "df_produto['Categoria'] = df_produto['Categoria'].str.strip()\n",
        "df_produto['Tamanho'] = df_produto['Tamanho'].str.strip()\n",
        "df_produto['Cor'] = df_produto['Cor'].str.strip()"
      ],
      "execution_count": 4,
      "outputs": []
    },
    {
      "cell_type": "code",
      "metadata": {
        "id": "xjjspu9ogThI"
      },
      "source": [
        "# Criando a descrição do produto como a concatenação da categoria_Cor_Tamanho:\n",
        "df_produto['Descricao'] = df_produto['Categoria'] + df_produto['Cor'] + df_produto['Tamanho'] "
      ],
      "execution_count": 5,
      "outputs": []
    },
    {
      "cell_type": "code",
      "metadata": {
        "id": "iZ0rSThwhhs7"
      },
      "source": [
        "# Criando df_cidades para alimentar demais datasets:\n",
        "df_cidades = pd.DataFrame({'CodigoCidade' : df_lojas['CodigoCidade'], 'UF' : df_lojas['UF'], 'Regiao' : df_lojas['Regiao'] }).drop_duplicates().dropna().reset_index(drop = True)"
      ],
      "execution_count": 6,
      "outputs": []
    },
    {
      "cell_type": "code",
      "metadata": {
        "id": "LIGy80-ToonZ"
      },
      "source": [
        "# Completando informações do df_lojas:\n",
        "\n",
        "# Função para excluir colunas pós merge (terminadas com '_x'):\n",
        "def drop_x(df):\n",
        "    to_drop = [x for x in df_lojas if x.endswith('_x')]\n",
        "    df_lojas.drop(to_drop, axis=1, inplace = True)\n",
        "\n",
        "# Completando informações e deixando somente as colunas com registros mergeados:\n",
        "df_lojas = pd.merge(df_lojas, df_cidades, on = ['CodigoCidade'], how = 'left', suffixes=('_x', ''))\n",
        "drop_x(df_lojas)\n"
      ],
      "execution_count": 7,
      "outputs": []
    },
    {
      "cell_type": "code",
      "metadata": {
        "id": "lOz_TetIuk3r"
      },
      "source": [
        "# Trazendo informações dos dataframes para o df_raw:\n",
        "\n",
        "df_raw = pd.merge(df_raw, df_produto, on='ProdID', how='left')\n",
        "df_raw = pd.merge(df_raw, df_lojas, on='LojaID', how='left')\n",
        "df_raw = pd.merge(df_raw, df_clientes, on='ClienteID', how='left')\n",
        "#df_raw.head(10)"
      ],
      "execution_count": 8,
      "outputs": []
    },
    {
      "cell_type": "code",
      "metadata": {
        "id": "dqAm7MMVzsAQ"
      },
      "source": [
        "# Adicionando a informação de Ano no df_raw:\n",
        "\n",
        "df_raw['Ano'] = df_raw['Data'].dt.year\n",
        "#df_raw.head(5)"
      ],
      "execution_count": 9,
      "outputs": []
    },
    {
      "cell_type": "code",
      "metadata": {
        "id": "HiVlSo1PC6ao"
      },
      "source": [
        "# Separando o df_raw em 2 df, por ano:\n",
        "\n",
        "df_raw_2022 = df_raw.loc[df_raw['Ano'] == 2022]\n",
        "df_raw_2023 = df_raw.loc[df_raw['Ano'] == 2023]"
      ],
      "execution_count": 10,
      "outputs": []
    },
    {
      "cell_type": "code",
      "metadata": {
        "id": "NMI8XDylEWGB"
      },
      "source": [
        "# Agrupando os df_raw criados:\n",
        "\n",
        "df_raw_2022 = df_raw_2022.groupby(['ProdID', 'Descricao']).agg({'CodigoTransacao': 'count', 'ClienteID': 'nunique', 'Faturamento': 'sum', 'UnidadesVendidas': 'sum'})\n",
        "df_raw_2023 = df_raw_2023.groupby(['ProdID', 'Descricao']).agg({'CodigoTransacao': 'count', 'ClienteID': 'nunique', 'Faturamento': 'sum', 'UnidadesVendidas': 'sum'})"
      ],
      "execution_count": 11,
      "outputs": []
    },
    {
      "cell_type": "code",
      "metadata": {
        "id": "niBneXBwHHoy"
      },
      "source": [
        "# Criando a tabela base para cálculo dos KPI's, unindo os dois agrupamentos por ano criados, renomeando as colunas para facilitar a identificação:\n",
        "\n",
        "df_resumo_1 = pd.concat([df_raw_2022, df_raw_2023], axis=1)\n",
        "df_resumo_1.columns = ['CodigoTransacao_2022', 'ClienteID_2022', 'Faturamento_2022', 'UnidadesVendidas_2022', 'CodigoTransacao_2023', 'ClienteID_2023', 'Faturamento_2023', 'UnidadesVendidas_2023']\n",
        "#df_resumo_1"
      ],
      "execution_count": 12,
      "outputs": []
    },
    {
      "cell_type": "code",
      "metadata": {
        "id": "vryJoZyWOaIU"
      },
      "source": [
        "# Criando colunas com indicadores:\n",
        "\n",
        "# Substituindo valores faltantes por 0:\n",
        "df_resumo_1.fillna(value=0, inplace=True)\n",
        "\n",
        "## dataframes auxiliares:\n",
        "df_clientes = df_raw.groupby(['ProdID', 'Descricao']).agg({'ClienteID': 'nunique'})\n",
        "df_frequencia = df_raw.groupby(['ProdID', 'Descricao']).agg({'CodigoTransacao': 'nunique'})\n",
        "df_transacao = df_raw.groupby(['ProdID', 'Descricao']).agg({'CodigoTransacao': 'nunique'})\n",
        "\n",
        "## KPIs:\n",
        "df_resumo_1['Vendas'] = df_resumo_1['CodigoTransacao_2022'] + df_resumo_1['CodigoTransacao_2023']\n",
        "df_resumo_1['VariacaoVendas'] = (((df_resumo_1['CodigoTransacao_2023'] - df_resumo_1['CodigoTransacao_2022']) / df_resumo_1['CodigoTransacao_2022']) * 100).round(2)\n",
        "df_resumo_1['VarClientes'] = (((df_resumo_1['ClienteID_2023'] - df_resumo_1['ClienteID_2022']) / df_resumo_1['ClienteID_2022']) * 100).round(2)\n",
        "df_resumo_1['GastoPorCliente'] = ((df_resumo_1['Faturamento_2023'] + df_resumo_1['Faturamento_2022']) / df_clientes['ClienteID']).round(2)\n",
        "df_resumo_1['VarGastoPorCliente'] = ((((df_resumo_1['Faturamento_2023'] / df_resumo_1['ClienteID_2023']) - (df_resumo_1['Faturamento_2022'] / df_resumo_1['ClienteID_2022'])) / (df_resumo_1['Faturamento_2022'] / df_resumo_1['ClienteID_2022'])) * 100).round(2)\n",
        "df_resumo_1['FrequenciaMedia'] = (df_frequencia['CodigoTransacao'] / df_clientes['ClienteID']).round(2)\n",
        "df_resumo_1['VarFrequenciaMedia'] = (((df_resumo_1['CodigoTransacao_2023'] / df_resumo_1['ClienteID_2023']) - (df_resumo_1['CodigoTransacao_2022'] / df_resumo_1['ClienteID_2022'])) / (df_resumo_1['CodigoTransacao_2022'] / df_resumo_1['ClienteID_2022'])).round(2) \n",
        "df_resumo_1['TicketMedio'] = ((df_resumo_1['Faturamento_2023'] + df_resumo_1['Faturamento_2022']) / df_transacao['CodigoTransacao']).round(2)\n",
        "df_resumo_1['VarTicketMedio'] = ((((df_resumo_1['Faturamento_2023'] / df_resumo_1['CodigoTransacao_2023']) - (df_resumo_1['Faturamento_2022'] / df_resumo_1['CodigoTransacao_2022']) ) / ((df_resumo_1['Faturamento_2022'] / df_resumo_1['CodigoTransacao_2022']))) * 100).round(2)\n",
        "df_resumo_1['PeçasPorCupom'] = ((df_resumo_1['UnidadesVendidas_2023'] + df_resumo_1['UnidadesVendidas_2022']) / df_transacao['CodigoTransacao']).round(2)\n",
        "df_resumo_1['VarPecasPorCupom'] = ((((df_resumo_1['UnidadesVendidas_2023'] / df_resumo_1['CodigoTransacao_2023']) - (df_resumo_1['UnidadesVendidas_2022'] / df_resumo_1['CodigoTransacao_2022'])) / (df_resumo_1['UnidadesVendidas_2022'] / df_resumo_1['CodigoTransacao_2022'])) * 100).round(2)\n",
        "df_resumo_1['PrecoMedio'] = ((df_resumo_1['Faturamento_2023'] + df_resumo_1['Faturamento_2022']) / (df_resumo_1['UnidadesVendidas_2023'] + df_resumo_1['UnidadesVendidas_2022'])).round(2)\n",
        "df_resumo_1['VarPrecoMedio'] = ((((df_resumo_1['Faturamento_2023'] / df_resumo_1['UnidadesVendidas_2023']) - (df_resumo_1['Faturamento_2022'] / df_resumo_1['UnidadesVendidas_2022'])) / (df_resumo_1['Faturamento_2022'] / df_resumo_1['UnidadesVendidas_2022'])) * 100).round(2)\n"
      ],
      "execution_count": 14,
      "outputs": []
    },
    {
      "cell_type": "code",
      "metadata": {
        "colab": {
          "base_uri": "https://localhost:8080/",
          "height": 472
        },
        "id": "wqu3747SbRad",
        "outputId": "05bee5f8-08c4-4998-e00d-945179c8ceb4"
      },
      "source": [
        "# Gerando tabela final:\n",
        "df_resumo_1_exportar = df_resumo_1.iloc[:,8:23]\n",
        "df_resumo_1_exportar"
      ],
      "execution_count": 15,
      "outputs": [
        {
          "output_type": "execute_result",
          "data": {
            "text/html": [
              "<div>\n",
              "<style scoped>\n",
              "    .dataframe tbody tr th:only-of-type {\n",
              "        vertical-align: middle;\n",
              "    }\n",
              "\n",
              "    .dataframe tbody tr th {\n",
              "        vertical-align: top;\n",
              "    }\n",
              "\n",
              "    .dataframe thead th {\n",
              "        text-align: right;\n",
              "    }\n",
              "</style>\n",
              "<table border=\"1\" class=\"dataframe\">\n",
              "  <thead>\n",
              "    <tr style=\"text-align: right;\">\n",
              "      <th></th>\n",
              "      <th></th>\n",
              "      <th>Vendas</th>\n",
              "      <th>VariacaoVendas</th>\n",
              "      <th>VarClientes</th>\n",
              "      <th>GastoPorCliente</th>\n",
              "      <th>VarGastoPorCliente</th>\n",
              "      <th>FrequenciaMedia</th>\n",
              "      <th>VarFrequenciaMedia</th>\n",
              "      <th>TicketMedio</th>\n",
              "      <th>VarTicketMedio</th>\n",
              "      <th>PeçasPorCupom</th>\n",
              "      <th>VarPecasPorCupom</th>\n",
              "      <th>PrecoMedio</th>\n",
              "      <th>VarPrecoMedio</th>\n",
              "    </tr>\n",
              "    <tr>\n",
              "      <th>ProdID</th>\n",
              "      <th>Descricao</th>\n",
              "      <th></th>\n",
              "      <th></th>\n",
              "      <th></th>\n",
              "      <th></th>\n",
              "      <th></th>\n",
              "      <th></th>\n",
              "      <th></th>\n",
              "      <th></th>\n",
              "      <th></th>\n",
              "      <th></th>\n",
              "      <th></th>\n",
              "      <th></th>\n",
              "      <th></th>\n",
              "    </tr>\n",
              "  </thead>\n",
              "  <tbody>\n",
              "    <tr>\n",
              "      <th>123000</th>\n",
              "      <th>BottomAzulP</th>\n",
              "      <td>228.0</td>\n",
              "      <td>-100.00</td>\n",
              "      <td>-100.00</td>\n",
              "      <td>117.18</td>\n",
              "      <td>NaN</td>\n",
              "      <td>2.56</td>\n",
              "      <td>NaN</td>\n",
              "      <td>45.74</td>\n",
              "      <td>NaN</td>\n",
              "      <td>2.32</td>\n",
              "      <td>NaN</td>\n",
              "      <td>19.68</td>\n",
              "      <td>NaN</td>\n",
              "    </tr>\n",
              "    <tr>\n",
              "      <th>123001</th>\n",
              "      <th>TopCinzaG</th>\n",
              "      <td>637.0</td>\n",
              "      <td>-52.55</td>\n",
              "      <td>-14.29</td>\n",
              "      <td>371.40</td>\n",
              "      <td>-44.51</td>\n",
              "      <td>6.37</td>\n",
              "      <td>-0.45</td>\n",
              "      <td>58.30</td>\n",
              "      <td>0.23</td>\n",
              "      <td>2.31</td>\n",
              "      <td>4.08</td>\n",
              "      <td>25.21</td>\n",
              "      <td>-3.70</td>\n",
              "    </tr>\n",
              "    <tr>\n",
              "      <th>123002</th>\n",
              "      <th>BottomPretoM</th>\n",
              "      <td>824.0</td>\n",
              "      <td>-9.26</td>\n",
              "      <td>-5.05</td>\n",
              "      <td>553.17</td>\n",
              "      <td>0.86</td>\n",
              "      <td>8.24</td>\n",
              "      <td>-0.04</td>\n",
              "      <td>67.13</td>\n",
              "      <td>5.54</td>\n",
              "      <td>2.43</td>\n",
              "      <td>5.04</td>\n",
              "      <td>27.63</td>\n",
              "      <td>0.48</td>\n",
              "    </tr>\n",
              "    <tr>\n",
              "      <th>123003</th>\n",
              "      <th>TopVermelhoM</th>\n",
              "      <td>827.0</td>\n",
              "      <td>-14.57</td>\n",
              "      <td>-2.02</td>\n",
              "      <td>574.78</td>\n",
              "      <td>0.97</td>\n",
              "      <td>8.27</td>\n",
              "      <td>-0.13</td>\n",
              "      <td>69.50</td>\n",
              "      <td>15.80</td>\n",
              "      <td>2.40</td>\n",
              "      <td>3.82</td>\n",
              "      <td>28.96</td>\n",
              "      <td>11.54</td>\n",
              "    </tr>\n",
              "    <tr>\n",
              "      <th>123004</th>\n",
              "      <th>TopCinzaM</th>\n",
              "      <td>849.0</td>\n",
              "      <td>-13.00</td>\n",
              "      <td>0.00</td>\n",
              "      <td>718.29</td>\n",
              "      <td>-5.34</td>\n",
              "      <td>8.49</td>\n",
              "      <td>-0.13</td>\n",
              "      <td>84.60</td>\n",
              "      <td>8.79</td>\n",
              "      <td>2.38</td>\n",
              "      <td>8.21</td>\n",
              "      <td>35.51</td>\n",
              "      <td>0.54</td>\n",
              "    </tr>\n",
              "    <tr>\n",
              "      <th>123005</th>\n",
              "      <th>TopCinzaP</th>\n",
              "      <td>842.0</td>\n",
              "      <td>5.37</td>\n",
              "      <td>0.00</td>\n",
              "      <td>900.43</td>\n",
              "      <td>-11.65</td>\n",
              "      <td>8.42</td>\n",
              "      <td>0.05</td>\n",
              "      <td>106.94</td>\n",
              "      <td>-16.15</td>\n",
              "      <td>2.34</td>\n",
              "      <td>-2.85</td>\n",
              "      <td>45.73</td>\n",
              "      <td>-13.69</td>\n",
              "    </tr>\n",
              "    <tr>\n",
              "      <th>123006</th>\n",
              "      <th>BottomPretoP</th>\n",
              "      <td>806.0</td>\n",
              "      <td>-9.46</td>\n",
              "      <td>-1.03</td>\n",
              "      <td>1053.47</td>\n",
              "      <td>-5.79</td>\n",
              "      <td>8.06</td>\n",
              "      <td>-0.09</td>\n",
              "      <td>130.70</td>\n",
              "      <td>2.97</td>\n",
              "      <td>2.39</td>\n",
              "      <td>4.52</td>\n",
              "      <td>54.78</td>\n",
              "      <td>-1.48</td>\n",
              "    </tr>\n",
              "    <tr>\n",
              "      <th>123007</th>\n",
              "      <th>TopVermelhoP</th>\n",
              "      <td>794.0</td>\n",
              "      <td>-6.34</td>\n",
              "      <td>2.06</td>\n",
              "      <td>1131.44</td>\n",
              "      <td>-6.16</td>\n",
              "      <td>7.94</td>\n",
              "      <td>-0.08</td>\n",
              "      <td>142.50</td>\n",
              "      <td>2.25</td>\n",
              "      <td>2.41</td>\n",
              "      <td>1.22</td>\n",
              "      <td>59.21</td>\n",
              "      <td>1.02</td>\n",
              "    </tr>\n",
              "    <tr>\n",
              "      <th>123008</th>\n",
              "      <th>TopVermelhoG</th>\n",
              "      <td>821.0</td>\n",
              "      <td>-6.37</td>\n",
              "      <td>1.02</td>\n",
              "      <td>1625.41</td>\n",
              "      <td>-14.59</td>\n",
              "      <td>8.21</td>\n",
              "      <td>-0.07</td>\n",
              "      <td>197.98</td>\n",
              "      <td>-7.85</td>\n",
              "      <td>2.36</td>\n",
              "      <td>3.76</td>\n",
              "      <td>83.87</td>\n",
              "      <td>-11.19</td>\n",
              "    </tr>\n",
              "    <tr>\n",
              "      <th>123009</th>\n",
              "      <th>TopVermelhoGG</th>\n",
              "      <td>592.0</td>\n",
              "      <td>72.81</td>\n",
              "      <td>12.64</td>\n",
              "      <td>1269.75</td>\n",
              "      <td>54.58</td>\n",
              "      <td>5.98</td>\n",
              "      <td>0.53</td>\n",
              "      <td>212.34</td>\n",
              "      <td>0.76</td>\n",
              "      <td>2.37</td>\n",
              "      <td>2.27</td>\n",
              "      <td>89.60</td>\n",
              "      <td>-1.47</td>\n",
              "    </tr>\n",
              "    <tr>\n",
              "      <th>123010</th>\n",
              "      <th>BottomAzulG</th>\n",
              "      <td>380.0</td>\n",
              "      <td>inf</td>\n",
              "      <td>inf</td>\n",
              "      <td>852.25</td>\n",
              "      <td>NaN</td>\n",
              "      <td>4.00</td>\n",
              "      <td>NaN</td>\n",
              "      <td>213.06</td>\n",
              "      <td>NaN</td>\n",
              "      <td>2.40</td>\n",
              "      <td>NaN</td>\n",
              "      <td>88.78</td>\n",
              "      <td>NaN</td>\n",
              "    </tr>\n",
              "    <tr>\n",
              "      <th>123011</th>\n",
              "      <th>BottomAzulM</th>\n",
              "      <td>185.0</td>\n",
              "      <td>inf</td>\n",
              "      <td>inf</td>\n",
              "      <td>104.14</td>\n",
              "      <td>NaN</td>\n",
              "      <td>2.20</td>\n",
              "      <td>NaN</td>\n",
              "      <td>47.28</td>\n",
              "      <td>NaN</td>\n",
              "      <td>2.39</td>\n",
              "      <td>NaN</td>\n",
              "      <td>19.75</td>\n",
              "      <td>NaN</td>\n",
              "    </tr>\n",
              "  </tbody>\n",
              "</table>\n",
              "</div>"
            ],
            "text/plain": [
              "                      Vendas  VariacaoVendas  ...  PrecoMedio  VarPrecoMedio\n",
              "ProdID Descricao                              ...                           \n",
              "123000 BottomAzulP     228.0         -100.00  ...       19.68            NaN\n",
              "123001 TopCinzaG       637.0          -52.55  ...       25.21          -3.70\n",
              "123002 BottomPretoM    824.0           -9.26  ...       27.63           0.48\n",
              "123003 TopVermelhoM    827.0          -14.57  ...       28.96          11.54\n",
              "123004 TopCinzaM       849.0          -13.00  ...       35.51           0.54\n",
              "123005 TopCinzaP       842.0            5.37  ...       45.73         -13.69\n",
              "123006 BottomPretoP    806.0           -9.46  ...       54.78          -1.48\n",
              "123007 TopVermelhoP    794.0           -6.34  ...       59.21           1.02\n",
              "123008 TopVermelhoG    821.0           -6.37  ...       83.87         -11.19\n",
              "123009 TopVermelhoGG   592.0           72.81  ...       89.60          -1.47\n",
              "123010 BottomAzulG     380.0             inf  ...       88.78            NaN\n",
              "123011 BottomAzulM     185.0             inf  ...       19.75            NaN\n",
              "\n",
              "[12 rows x 13 columns]"
            ]
          },
          "metadata": {},
          "execution_count": 15
        }
      ]
    },
    {
      "cell_type": "code",
      "metadata": {
        "id": "-5zUTYeJeY-B"
      },
      "source": [
        ""
      ],
      "execution_count": null,
      "outputs": []
    }
  ]
}